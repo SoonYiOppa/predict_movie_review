{
 "cells": [
  {
   "cell_type": "code",
   "execution_count": null,
   "id": "52b01690-ece2-45b0-840e-7ce9e6394f3d",
   "metadata": {},
   "outputs": [],
   "source": [
    "# bow 벡터 생성\n",
    "from sklearn.feature_extraction.text import CountVectorizer\n",
    "\n",
    "def text_cleaning(document):\n",
    "    hangul = re.compile('[^ㄱ-ㅣ가-힣]') # 정규식 적용\n",
    "    result = hangul.sub('', document)\n",
    "    okt=Okt()\n",
    "    nouns = okt.nouns(result)\n",
    "    nouns = [x for x in nouns if len(x)>1] # 한글자 제거\n",
    "    nouns = [x for x in nouns if x not in stopwords] # 불용어 제거\n",
    "    return nouns"
   ]
  },
  {
   "cell_type": "code",
   "execution_count": null,
   "id": "bcb22121-9d37-4635-aae4-25e9fe9c5fa1",
   "metadata": {},
   "outputs": [],
   "source": [
    "vect = CountVectorizer(tokenizer = lambda x : text_cleaning(x))\n",
    "bow_vect = vect.fit_transform(data['document'].tolist())\n",
    "word_list = vect.get_feature_names()\n",
    "count_list = bow_vect.toarray().sum(axis=0)"
   ]
  },
  {
   "cell_type": "code",
   "execution_count": null,
   "id": "1ae80c8e-d365-43a7-9fdf-fc78c8d59c1f",
   "metadata": {},
   "outputs": [],
   "source": [
    "test_bow_vect = vect.fit_transform(test['document'].tolist())\n",
    "test_word_list = vect.get_feature_names()\n",
    "test_count_list = bow_vect.toarray().sum(axis=0)"
   ]
  },
  {
   "cell_type": "code",
   "execution_count": null,
   "id": "86a6da7c-3a75-44dd-9ab0-1acd4d683d5d",
   "metadata": {},
   "outputs": [],
   "source": [
    "#워드 리스트 확인\n",
    "word_list[:100]"
   ]
  },
  {
   "cell_type": "code",
   "execution_count": null,
   "id": "208474e6-b388-416a-87dd-18674841b7d7",
   "metadata": {},
   "outputs": [],
   "source": [
    "#word count 확인\n",
    "\n",
    "word_count_dict = dict(zip(word_list, count_list))\n",
    "word_count_dict"
   ]
  },
  {
   "cell_type": "code",
   "execution_count": null,
   "id": "1a3e5a71-680c-4fe4-aab0-9f72c76fc802",
   "metadata": {},
   "outputs": [],
   "source": [
    "# 벡터 - 단어 맵핑\n",
    "vect.vocabulary_"
   ]
  },
  {
   "cell_type": "code",
   "execution_count": null,
   "id": "69c10c38-dec7-42f0-a843-853aa133339d",
   "metadata": {},
   "outputs": [],
   "source": [
    "invert_index_vectorizer = {v:k for k,v in vect.vocabulary_.items()}\n",
    "print(str(invert_index_vectorizer)[:100]+'...')"
   ]
  },
  {
   "cell_type": "code",
   "execution_count": null,
   "id": "b92dc2ad-03fc-4f23-85af-ea1667f28d2d",
   "metadata": {},
   "outputs": [],
   "source": [
    "#데이터 분할\n",
    "\n",
    "from sklearn.model_selection import train_test_split\n",
    "\n",
    "X = tf_idf_vect\n",
    "y= data[['label']]\n",
    "\n",
    "X_train, X_test, y_train, y_test = train_test_split(X, y, stratify = y, test_size=0.3, random_state=42)"
   ]
  },
  {
   "cell_type": "code",
   "execution_count": null,
   "id": "9142771a-e2ae-4a96-b1b6-fe21eccbaf42",
   "metadata": {},
   "outputs": [],
   "source": [
    "# 로지스틱 회귀모형 적용\n",
    "\n",
    "from sklearn.linear_model import LogisticRegression\n",
    "\n",
    "model = LogisticRegression()\n",
    "model.fit(X_train, y_train)\n",
    "pred_train = model.predict(X_train)\n",
    "pred_test = model.predict(X_test)\n",
    "\n",
    "print(\"Train Data 모델 스코어\",model.score(X_train,y_train))\n",
    "print(\"Test data 모델 스코어\", model.score(X_test, y_test))"
   ]
  }
 ],
 "metadata": {
  "kernelspec": {
   "display_name": "pydatavenv",
   "language": "python",
   "name": "pydatavenv"
  },
  "language_info": {
   "codemirror_mode": {
    "name": "ipython",
    "version": 3
   },
   "file_extension": ".py",
   "mimetype": "text/x-python",
   "name": "python",
   "nbconvert_exporter": "python",
   "pygments_lexer": "ipython3",
   "version": "3.9.7"
  }
 },
 "nbformat": 4,
 "nbformat_minor": 5
}

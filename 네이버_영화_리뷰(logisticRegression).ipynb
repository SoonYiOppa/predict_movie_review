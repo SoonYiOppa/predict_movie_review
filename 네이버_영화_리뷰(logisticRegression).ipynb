{
 "cells": [
  {
   "cell_type": "code",
   "execution_count": 2,
   "id": "f27d7149-b58d-42f9-8638-32c31b44ff3d",
   "metadata": {},
   "outputs": [],
   "source": [
    "import warnings\n",
    "warnings.filterwarnings(\"ignore\")\n",
    "\n",
    "import pandas as pd\n",
    "import numpy as np\n",
    "\n",
    "data = pd.read_csv(\"./data/train.csv\", encoding=\"UTF-8\")\n",
    "test = pd.read_csv(\"./data/test.csv\", encoding=\"UTF-8\")"
   ]
  },
  {
   "cell_type": "code",
   "execution_count": 3,
   "id": "da59efa6-544b-49cd-9d5b-51177447793a",
   "metadata": {},
   "outputs": [],
   "source": [
    "#test 데이터 \n",
    "test.loc[2,'document'] = \"어린 시절 환상\""
   ]
  },
  {
   "cell_type": "markdown",
   "id": "6453f902-6f05-4976-b355-793490a2817f",
   "metadata": {},
   "source": [
    "test 데이터의 2행은 영어로 되어 있기 때문에 정규식을 영어로 포함해서 적용하는 것보다 번역을 통해 넣는 것이 좋아보입니다."
   ]
  },
  {
   "cell_type": "code",
   "execution_count": 4,
   "id": "c08597ad-d52d-466b-8737-458a2c793e7b",
   "metadata": {},
   "outputs": [],
   "source": [
    "#정규식 표현 함수\n",
    "import re\n",
    "\n",
    "def regular_expression(document):\n",
    "    hangul = re.compile('[^ㄱ-ㅎ|가-힣]')\n",
    "    result = hangul.sub(\"\",document)\n",
    "    return result\n",
    "    "
   ]
  },
  {
   "cell_type": "code",
   "execution_count": 5,
   "id": "38b2fde8-563b-4b2a-9210-e42866383a7f",
   "metadata": {},
   "outputs": [],
   "source": [
    "# data(훈련데이터), test_data(예측할 실제 데이터) 정규식 적용\n",
    "data['document'] = data['document'].apply(regular_expression)\n",
    "test['document'] = test['document'].apply(regular_expression)"
   ]
  },
  {
   "cell_type": "code",
   "execution_count": 6,
   "id": "c820328a-0bb7-4e60-adda-a9bca13e0cd3",
   "metadata": {},
   "outputs": [
    {
     "data": {
      "text/html": [
       "<div>\n",
       "<style scoped>\n",
       "    .dataframe tbody tr th:only-of-type {\n",
       "        vertical-align: middle;\n",
       "    }\n",
       "\n",
       "    .dataframe tbody tr th {\n",
       "        vertical-align: top;\n",
       "    }\n",
       "\n",
       "    .dataframe thead th {\n",
       "        text-align: right;\n",
       "    }\n",
       "</style>\n",
       "<table border=\"1\" class=\"dataframe\">\n",
       "  <thead>\n",
       "    <tr style=\"text-align: right;\">\n",
       "      <th></th>\n",
       "      <th>id</th>\n",
       "      <th>document</th>\n",
       "      <th>label</th>\n",
       "    </tr>\n",
       "  </thead>\n",
       "  <tbody>\n",
       "    <tr>\n",
       "      <th>0</th>\n",
       "      <td>1</td>\n",
       "      <td>영상이나음악이이쁘다해도미화시킨불륜일뿐</td>\n",
       "      <td>0</td>\n",
       "    </tr>\n",
       "    <tr>\n",
       "      <th>1</th>\n",
       "      <td>2</td>\n",
       "      <td>히치콕이이영화를봤다면분명박수를쳤을듯</td>\n",
       "      <td>1</td>\n",
       "    </tr>\n",
       "    <tr>\n",
       "      <th>2</th>\n",
       "      <td>3</td>\n",
       "      <td>괜찮은음악영화가또나왔군요따뜻한겨울이될것같아요</td>\n",
       "      <td>1</td>\n",
       "    </tr>\n",
       "    <tr>\n",
       "      <th>3</th>\n",
       "      <td>4</td>\n",
       "      <td>아무래도년도지난작품이라지금보기는너무유치하다</td>\n",
       "      <td>0</td>\n",
       "    </tr>\n",
       "    <tr>\n",
       "      <th>4</th>\n",
       "      <td>5</td>\n",
       "      <td>지금까지의영화들이그랬듯이영화역시일본에대한미화는여전하다</td>\n",
       "      <td>0</td>\n",
       "    </tr>\n",
       "  </tbody>\n",
       "</table>\n",
       "</div>"
      ],
      "text/plain": [
       "   id                       document  label\n",
       "0   1           영상이나음악이이쁘다해도미화시킨불륜일뿐      0\n",
       "1   2            히치콕이이영화를봤다면분명박수를쳤을듯      1\n",
       "2   3       괜찮은음악영화가또나왔군요따뜻한겨울이될것같아요      1\n",
       "3   4        아무래도년도지난작품이라지금보기는너무유치하다      0\n",
       "4   5  지금까지의영화들이그랬듯이영화역시일본에대한미화는여전하다      0"
      ]
     },
     "execution_count": 6,
     "metadata": {},
     "output_type": "execute_result"
    }
   ],
   "source": [
    "#data(훈련 데이터)에 정규식이 잘 적용 되었는지 확인\n",
    "data.head()"
   ]
  },
  {
   "cell_type": "code",
   "execution_count": 7,
   "id": "2672093e-fffe-4d7d-b4aa-5800c0e57451",
   "metadata": {},
   "outputs": [
    {
     "data": {
      "text/html": [
       "<div>\n",
       "<style scoped>\n",
       "    .dataframe tbody tr th:only-of-type {\n",
       "        vertical-align: middle;\n",
       "    }\n",
       "\n",
       "    .dataframe tbody tr th {\n",
       "        vertical-align: top;\n",
       "    }\n",
       "\n",
       "    .dataframe thead th {\n",
       "        text-align: right;\n",
       "    }\n",
       "</style>\n",
       "<table border=\"1\" class=\"dataframe\">\n",
       "  <thead>\n",
       "    <tr style=\"text-align: right;\">\n",
       "      <th></th>\n",
       "      <th>id</th>\n",
       "      <th>document</th>\n",
       "    </tr>\n",
       "  </thead>\n",
       "  <tbody>\n",
       "    <tr>\n",
       "      <th>0</th>\n",
       "      <td>1</td>\n",
       "      <td>시간때우기좋은영화지루함</td>\n",
       "    </tr>\n",
       "    <tr>\n",
       "      <th>1</th>\n",
       "      <td>2</td>\n",
       "      <td>훈훈한정이느껴지는영화가족끼리드라마보듯이보면딱</td>\n",
       "    </tr>\n",
       "    <tr>\n",
       "      <th>2</th>\n",
       "      <td>3</td>\n",
       "      <td>어린시절환상</td>\n",
       "    </tr>\n",
       "    <tr>\n",
       "      <th>3</th>\n",
       "      <td>4</td>\n",
       "      <td>멋있는영화입니다잊을수없는</td>\n",
       "    </tr>\n",
       "    <tr>\n",
       "      <th>4</th>\n",
       "      <td>5</td>\n",
       "      <td>너무감동적이네요펑펑울었습니다</td>\n",
       "    </tr>\n",
       "  </tbody>\n",
       "</table>\n",
       "</div>"
      ],
      "text/plain": [
       "   id                  document\n",
       "0   1              시간때우기좋은영화지루함\n",
       "1   2  훈훈한정이느껴지는영화가족끼리드라마보듯이보면딱\n",
       "2   3                    어린시절환상\n",
       "3   4             멋있는영화입니다잊을수없는\n",
       "4   5           너무감동적이네요펑펑울었습니다"
      ]
     },
     "execution_count": 7,
     "metadata": {},
     "output_type": "execute_result"
    }
   ],
   "source": [
    "#test(예측 데이터) 정규식 적용 확인\n",
    "test.head()"
   ]
  },
  {
   "cell_type": "code",
   "execution_count": 8,
   "id": "e27fc832-5537-4f87-9c73-8847b99fe586",
   "metadata": {},
   "outputs": [],
   "source": [
    "#한국어 형태소 분석\n",
    "from konlpy.tag import Okt\n",
    "from collections import Counter\n",
    "\n",
    "#말뭉치 생성\n",
    "corpus =\"\".join(data['document'].tolist())\n"
   ]
  },
  {
   "cell_type": "code",
   "execution_count": 9,
   "id": "05986801-95d9-4577-ace8-7bc75c20d745",
   "metadata": {
    "tags": []
   },
   "outputs": [],
   "source": [
    "#말뭉치 정규식 적용\n",
    "#regular_expression(corpus)"
   ]
  },
  {
   "cell_type": "code",
   "execution_count": 10,
   "id": "0eaeadf2-fafe-4345-8725-854195124924",
   "metadata": {},
   "outputs": [],
   "source": [
    "#전체 말뭉치에서 명사 형태소 추출 \n",
    "\n",
    "okt=Okt()\n",
    "nouns = okt.nouns(regular_expression(corpus))\n"
   ]
  },
  {
   "cell_type": "code",
   "execution_count": 11,
   "id": "89004f0f-7b8f-4c10-b278-6cd349e37ca3",
   "metadata": {},
   "outputs": [
    {
     "name": "stdout",
     "output_type": "stream",
     "text": [
      "['영상', '음악', '도미', '불륜', '일', '히치콕', '이영화', '분명', '박수', '음악']\n"
     ]
    }
   ],
   "source": [
    "#10개 확인\n",
    "print(nouns[:10])"
   ]
  },
  {
   "cell_type": "code",
   "execution_count": 13,
   "id": "65c96315-1c2b-4ff7-88ab-91456ba68d96",
   "metadata": {
    "tags": []
   },
   "outputs": [
    {
     "data": {
      "text/plain": [
       "[('영화', 1339),\n",
       " ('정말', 308),\n",
       " ('진짜', 260),\n",
       " ('최고', 221),\n",
       " ('평점', 182),\n",
       " ('연기', 173),\n",
       " ('감동', 159),\n",
       " ('보고', 156),\n",
       " ('왜', 138),\n",
       " ('재미', 134)]"
      ]
     },
     "execution_count": 13,
     "metadata": {},
     "output_type": "execute_result"
    }
   ],
   "source": [
    "#단어 빈도 탐색\n",
    "counter = Counter(nouns)\n",
    "counter.most_common(10)"
   ]
  },
  {
   "cell_type": "code",
   "execution_count": 15,
   "id": "605adbec-9c0b-4f45-9c34-a06d06055417",
   "metadata": {
    "tags": []
   },
   "outputs": [
    {
     "data": {
      "text/plain": [
       "[('영화', 1339),\n",
       " ('정말', 308),\n",
       " ('진짜', 260),\n",
       " ('최고', 221),\n",
       " ('평점', 182),\n",
       " ('연기', 173),\n",
       " ('감동', 159),\n",
       " ('보고', 156),\n",
       " ('재미', 134),\n",
       " ('스토리', 129)]"
      ]
     },
     "execution_count": 15,
     "metadata": {},
     "output_type": "execute_result"
    }
   ],
   "source": [
    "#한글자 명사 제거\n",
    "available_counter = Counter({x: counter[x] for x in counter if len(x)>1})\n",
    "available_counter.most_common(10)"
   ]
  },
  {
   "cell_type": "code",
   "execution_count": 17,
   "id": "74c1515c-64b4-4873-9cbb-764560d85f9b",
   "metadata": {
    "tags": []
   },
   "outputs": [
    {
     "data": {
      "text/plain": [
       "[['휴'],\n",
       " ['아이구'],\n",
       " ['아이쿠'],\n",
       " ['아이고'],\n",
       " ['어'],\n",
       " ['나'],\n",
       " ['우리'],\n",
       " ['저희'],\n",
       " ['따라'],\n",
       " ['의해']]"
      ]
     },
     "execution_count": 17,
     "metadata": {},
     "output_type": "execute_result"
    }
   ],
   "source": [
    "#불용어 사전 만들기\n",
    "stopwords = pd.read_csv(\"https://raw.githubusercontent.com/yoonkt200/FastCampusDataset/master/korean_stopwords.txt\").values.tolist()\n",
    "stopwords[:10]"
   ]
  },
  {
   "cell_type": "code",
   "execution_count": 18,
   "id": "7a389172-bccc-494f-8b48-1205a7fd01e5",
   "metadata": {},
   "outputs": [],
   "source": [
    "#데이터 셋에 특화된 불용어 사전 추가\n",
    "\n",
    "movie_review_stopwords = ['지금','드라마','이야기','액션','사람','정도','내용','이건','점도','때문',\n",
    "                          '이영화','용도','보지','본영']\n",
    "for word in movie_review_stopwords:\n",
    "    stopwords.append(word)"
   ]
  },
  {
   "cell_type": "code",
   "execution_count": 19,
   "id": "16d52420-a788-4e75-a7d8-7293d73056ff",
   "metadata": {},
   "outputs": [],
   "source": [
    "#불용어 처리\n",
    "def extract_okt(text):\n",
    "    test = text.lower()\n",
    "    result = okt.morphs(text, stem = True)\n",
    "    result = [x for x in result if x not in stopwords]\n",
    "    return \" \".join(result)"
   ]
  },
  {
   "cell_type": "code",
   "execution_count": 40,
   "id": "607f205d-ae8b-422f-a311-a7fe875d3a12",
   "metadata": {},
   "outputs": [
    {
     "name": "stderr",
     "output_type": "stream",
     "text": [
      "100%|█████████████████████████████████████████████████████████████████████████████| 5000/5000 [00:39<00:00, 125.06it/s]\n"
     ]
    }
   ],
   "source": [
    "# 불용어 처리 함수 적용\n",
    "from tqdm import tqdm\n",
    "\n",
    "train_data =[]\n",
    "for text in tqdm(data['document']):\n",
    "    train_data.append(extract_okt(text))"
   ]
  },
  {
   "cell_type": "code",
   "execution_count": 50,
   "id": "cfd87a0b-98b0-41cf-8a41-e517c48a0099",
   "metadata": {
    "tags": []
   },
   "outputs": [
    {
     "name": "stderr",
     "output_type": "stream",
     "text": [
      "100%|█████████████████████████████████████████████████████████████████████████████| 5000/5000 [00:38<00:00, 128.44it/s]\n"
     ]
    }
   ],
   "source": [
    "#Test 데이터 불용어 처리\n",
    "\n",
    "test_data = []\n",
    "for text in tqdm(test['document']):\n",
    "    test_data.append(extract_okt(text))"
   ]
  },
  {
   "cell_type": "code",
   "execution_count": 59,
   "id": "f59be057-503a-4a4f-a068-73d2d3d148f2",
   "metadata": {},
   "outputs": [
    {
     "name": "stdout",
     "output_type": "stream",
     "text": [
      "max_features: 100, Accuracy: 0.6806666666666666\n",
      "max_features: 200, Accuracy: 0.7233333333333334\n",
      "max_features: 300, Accuracy: 0.7553333333333333\n",
      "max_features: 400, Accuracy: 0.776\n",
      "max_features: 500, Accuracy: 0.7746666666666666\n",
      "max_features: 600, Accuracy: 0.782\n",
      "max_features: 700, Accuracy: 0.796\n",
      "max_features: 800, Accuracy: 0.804\n",
      "max_features: 900, Accuracy: 0.8066666666666666\n",
      "max_features: 1000, Accuracy: 0.8126666666666666\n",
      "max_features: 1100, Accuracy: 0.816\n",
      "max_features: 1200, Accuracy: 0.8206666666666667\n",
      "max_features: 1300, Accuracy: 0.8273333333333334\n",
      "max_features: 1400, Accuracy: 0.828\n",
      "max_features: 1500, Accuracy: 0.832\n",
      "max_features: 1600, Accuracy: 0.8293333333333334\n",
      "max_features: 1700, Accuracy: 0.8293333333333334\n",
      "max_features: 1800, Accuracy: 0.83\n",
      "max_features: 1900, Accuracy: 0.8286666666666667\n",
      "max_features: 2000, Accuracy: 0.8293333333333334\n",
      "max_features: 2100, Accuracy: 0.83\n",
      "max_features: 2200, Accuracy: 0.8273333333333334\n",
      "max_features: 2300, Accuracy: 0.8286666666666667\n",
      "max_features: 2400, Accuracy: 0.8313333333333334\n",
      "max_features: 2500, Accuracy: 0.8326666666666667\n",
      "max_features: 2600, Accuracy: 0.8353333333333334\n",
      "max_features: 2700, Accuracy: 0.838\n",
      "max_features: 2800, Accuracy: 0.8413333333333334\n",
      "max_features: 2900, Accuracy: 0.8413333333333334\n",
      "max_features: 3000, Accuracy: 0.8453333333333334\n",
      "max_features: 3100, Accuracy: 0.8453333333333334\n",
      "max_features: 3200, Accuracy: 0.8433333333333334\n",
      "max_features: 3300, Accuracy: 0.8426666666666667\n",
      "max_features: 3400, Accuracy: 0.842\n",
      "max_features: 3500, Accuracy: 0.8473333333333334\n",
      "max_features: 3600, Accuracy: 0.846\n",
      "max_features: 3700, Accuracy: 0.8506666666666667\n",
      "max_features: 3800, Accuracy: 0.8493333333333334\n",
      "max_features: 3900, Accuracy: 0.8493333333333334\n",
      "max_features: 4000, Accuracy: 0.8473333333333334\n",
      "max_features: 4100, Accuracy: 0.8506666666666667\n",
      "max_features: 4200, Accuracy: 0.8486666666666667\n",
      "max_features: 4300, Accuracy: 0.8506666666666667\n",
      "max_features: 4400, Accuracy: 0.8506666666666667\n",
      "max_features: 4500, Accuracy: 0.852\n",
      "max_features: 4600, Accuracy: 0.8526666666666667\n",
      "max_features: 4700, Accuracy: 0.852\n",
      "max_features: 4800, Accuracy: 0.852\n",
      "max_features: 4900, Accuracy: 0.852\n",
      "max_features: 5000, Accuracy: 0.852\n",
      "max_features: 5100, Accuracy: 0.8506666666666667\n",
      "max_features: 5200, Accuracy: 0.852\n",
      "max_features: 5300, Accuracy: 0.8526666666666667\n",
      "max_features: 5400, Accuracy: 0.85\n",
      "max_features: 5500, Accuracy: 0.85\n",
      "max_features: 5600, Accuracy: 0.8513333333333334\n",
      "max_features: 5700, Accuracy: 0.854\n",
      "max_features: 5800, Accuracy: 0.8546666666666667\n",
      "max_features: 5900, Accuracy: 0.854\n",
      "max_features: 6000, Accuracy: 0.8553333333333333\n",
      "max_features: 6100, Accuracy: 0.8546666666666667\n",
      "max_features: 6200, Accuracy: 0.856\n",
      "max_features: 6300, Accuracy: 0.8546666666666667\n",
      "max_features: 6400, Accuracy: 0.8533333333333334\n",
      "max_features: 6500, Accuracy: 0.852\n",
      "max_features: 6600, Accuracy: 0.8533333333333334\n",
      "max_features: 6700, Accuracy: 0.854\n",
      "max_features: 6800, Accuracy: 0.8546666666666667\n",
      "max_features: 6900, Accuracy: 0.8546666666666667\n",
      "max_features: 7000, Accuracy: 0.8553333333333333\n",
      "max_features: 7100, Accuracy: 0.856\n",
      "max_features: 7200, Accuracy: 0.8566666666666667\n",
      "max_features: 7300, Accuracy: 0.8553333333333333\n",
      "max_features: 7400, Accuracy: 0.8546666666666667\n",
      "max_features: 7500, Accuracy: 0.856\n",
      "max_features: 7600, Accuracy: 0.8553333333333333\n",
      "max_features: 7700, Accuracy: 0.8526666666666667\n",
      "max_features: 7800, Accuracy: 0.8526666666666667\n",
      "max_features: 7900, Accuracy: 0.8533333333333334\n",
      "max_features: 8000, Accuracy: 0.8526666666666667\n",
      "max_features: 8100, Accuracy: 0.8526666666666667\n",
      "max_features: 8200, Accuracy: 0.8533333333333334\n",
      "max_features: 8300, Accuracy: 0.8553333333333333\n",
      "max_features: 8400, Accuracy: 0.8573333333333333\n",
      "max_features: 8500, Accuracy: 0.8553333333333333\n",
      "max_features: 8600, Accuracy: 0.8526666666666667\n",
      "max_features: 8700, Accuracy: 0.8533333333333334\n",
      "max_features: 8800, Accuracy: 0.854\n",
      "max_features: 8900, Accuracy: 0.8533333333333334\n",
      "max_features: 9000, Accuracy: 0.852\n",
      "max_features: 9100, Accuracy: 0.8526666666666667\n",
      "max_features: 9200, Accuracy: 0.8526666666666667\n",
      "max_features: 9300, Accuracy: 0.8513333333333334\n",
      "max_features: 9400, Accuracy: 0.852\n",
      "max_features: 9500, Accuracy: 0.8513333333333334\n",
      "max_features: 9600, Accuracy: 0.8526666666666667\n",
      "max_features: 9700, Accuracy: 0.8526666666666667\n",
      "max_features: 9800, Accuracy: 0.8513333333333334\n",
      "max_features: 9900, Accuracy: 0.8506666666666667\n"
     ]
    }
   ],
   "source": [
    "# TF-IDF, 로지스틱 회귀분석 적용\n",
    "from sklearn.feature_extraction.text import TfidfVectorizer\n",
    "from sklearn.model_selection import train_test_split\n",
    "from sklearn.linear_model import LogisticRegression\n",
    "\n",
    "vectorizer = TfidfVectorizer()\n",
    "for max_features in range(100,10000,100):\n",
    "    vectorizer = TfidfVectorizer(min_df=0.0, analyzer='char',sublinear_tf=True, ngram_range=(1,3), max_features=max_features)\n",
    "    \n",
    "    X = np.array(train_data)\n",
    "    y = np.array(data.label)\n",
    "    \n",
    "    X_train, X_test, y_train, y_test =  train_test_split(X, y, stratify = y, test_size=0.3, random_state=42)\n",
    "    \n",
    "    X_train = vectorizer.fit_transform(X_train)\n",
    "    X_test = vectorizer.transform(X_test)\n",
    "    model = LogisticRegression(class_weight='balanced',C=10)\n",
    "    model.fit(X_train, y_train)\n",
    "    predicted = model.predict(X_test)\n",
    "    print(f\"max_features: {max_features}, Accuracy: {model.score(X_test, y_test)}\" )"
   ]
  },
  {
   "cell_type": "code",
   "execution_count": 56,
   "id": "ce376ca6-47ad-4d66-9005-05a7c716c0de",
   "metadata": {},
   "outputs": [
    {
     "name": "stdout",
     "output_type": "stream",
     "text": [
      "Train Data 모델 score 0.9762857142857143\n",
      "Test Data 모델 score 0.8533333333333334\n"
     ]
    }
   ],
   "source": [
    "#max-feature = 4600 적용\n",
    "\n",
    "vectorizer = TfidfVectorizer(min_df = 0.0, analyzer=\"char\", sublinear_tf=True, ngram_range=(1,3), max_features=7200)\n",
    "X = vectorizer.fit_transform(train_data)\n",
    "y = data[['label']]\n",
    "\n",
    "X_train, X_test, y_train, y_test = train_test_split(X, y, stratify=y, test_size=0.3, random_state=42)\n",
    "model=LogisticRegression(class_weight='balanced', C=10)\n",
    "model.fit(X_train,y_train)\n",
    "pred_train = model.predict(X_train)\n",
    "pred_test = model.predict(X_test)\n",
    "print(\"Train Data 모델 score\",model.score(X_train, y_train))\n",
    "print(\"Test Data 모델 score\", model.score(X_test, y_test))\n",
    "\n",
    "\n",
    "#test_data = vectorizer.fit_transform(test['document'])\n",
    "#print(tf_idf_vect.shape)\n",
    "#print(test_data.shape)"
   ]
  },
  {
   "cell_type": "code",
   "execution_count": 57,
   "id": "07f370c0-abc9-4bd3-8e8e-15c999d34ceb",
   "metadata": {},
   "outputs": [
    {
     "name": "stdout",
     "output_type": "stream",
     "text": [
      "Best Parameter : {'C': 10}\n",
      "Train Data 모델 스코어 : 0.8520\n",
      "Test Data 모델 스코어 : 0.8533\n"
     ]
    }
   ],
   "source": [
    "#grid Search - 최적의 하이퍼 파라미터 찾기\n",
    "from sklearn.model_selection import GridSearchCV\n",
    "param_grid = {\"C\":[0.0001,0.001,0.01,0.1,1,10,100]}\n",
    "grid_search = GridSearchCV(model, param_grid,cv=5)\n",
    "grid_search.fit(X_train, y_train)\n",
    "\n",
    "print(\"Best Parameter : {}\".format(grid_search.best_params_))\n",
    "print(\"Train Data 모델 스코어 : {:.4f}\".format(grid_search.best_score_))\n",
    "print(\"Test Data 모델 스코어 : {:.4f}\".format(grid_search.score(X_test, y_test)))"
   ]
  },
  {
   "cell_type": "markdown",
   "id": "9d21d66a-c637-4db2-9eea-758bf64d2a64",
   "metadata": {},
   "source": [
    "그리드 서치로 하이퍼 파라 미터를 조정 하기 전에는 train_data에서 높은 정확도를 보이지만 test_data에서 정확도가 떨어지는 것을 알 수 있다.\n",
    "하지만 C=10으로 하이퍼 파라미터를 튜닝하면 Train data와 Test data에서 정화도 차이가 줄어들기 때문에 주어진 Test Set을 예측할 때 튜닝을 하는 것이 더 좋아 보인다."
   ]
  },
  {
   "cell_type": "code",
   "execution_count": 38,
   "id": "0db2209e-24c3-4d00-a1a3-1d72f19bdbee",
   "metadata": {},
   "outputs": [
    {
     "data": {
      "image/png": "[encoded data removed]",
      "text/plain": [
       "<Figure size 288x216 with 2 Axes>"
      ]
     },
     "metadata": {
      "needs_background": "light"
     },
     "output_type": "display_data"
    }
   ],
   "source": [
    "from sklearn.metrics import confusion_matrix\n",
    "import matplotlib.pyplot as plt\n",
    "import seaborn as sns\n",
    "\n",
    "confusion_train = confusion_matrix(y_train, pred_train)\n",
    "plt.figure(figsize=(4, 3))\n",
    "sns.heatmap(confusion_train, annot=True, annot_kws={'size':15}, cmap='OrRd', fmt='.10g')\n",
    "plt.title('Confusion Matrix')\n",
    "plt.show()\n"
   ]
  },
  {
   "cell_type": "code",
   "execution_count": 51,
   "id": "76c39533-3ae1-4d5f-b51a-aa4ef1ef53f1",
   "metadata": {
    "tags": []
   },
   "outputs": [],
   "source": [
    "#Grid-Search 적용\n",
    "test_data=vectorizer.transform(test_data)\n",
    "y_pred = model.predict(test_data)\n"
   ]
  },
  {
   "cell_type": "code",
   "execution_count": 52,
   "id": "4cb282a6-af27-46a8-8c50-9a47d46ab542",
   "metadata": {
    "tags": []
   },
   "outputs": [],
   "source": [
    "submission = pd.read_csv(\"./data/sample_submission.csv\")\n",
    "submission['label'] = y_pred\n",
    "submission.to_csv(\"./data/submission(logistic).csv\", index=False, header = True, encoding=\"UTF-8\")\n",
    "\n",
    "#0.8415"
   ]
  },
  {
   "cell_type": "markdown",
   "id": "7528ee51-b2e0-43f8-ba17-378561126722",
   "metadata": {},
   "source": [
    "[참고문헌]\n",
    "1. https://dacon.io/competitions/official/235864/codeshare/4222?page=1&dtype=recent\n",
    "2. https://hyemin-kim.github.io/2020/08/29/E-Python-TextMining-2/"
   ]
  }
 ],
 "metadata": {
  "kernelspec": {
   "display_name": "pydatavenv",
   "language": "python",
   "name": "pydatavenv"
  },
  "language_info": {
   "codemirror_mode": {
    "name": "ipython",
    "version": 3
   },
   "file_extension": ".py",
   "mimetype": "text/x-python",
   "name": "python",
   "nbconvert_exporter": "python",
   "pygments_lexer": "ipython3",
   "version": "3.9.7"
  }
 },
 "nbformat": 4,
 "nbformat_minor": 5
}
